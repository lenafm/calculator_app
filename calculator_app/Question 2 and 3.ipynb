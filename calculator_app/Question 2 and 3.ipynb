{
 "cells": [
  {
   "cell_type": "markdown",
   "source": [
    "Question 2 : Examine the code\n",
    "First, we define a check_array function with input as an argument. We iterate and check each time if the first character of each element is 1. If it is, we assign the value none and return the modified input list. Then, we create the object original_array and we call the check_array function with the original_array as an argument before printing both the original array and the new array which should assign the returned value to new_array. Here, when we call check_array it is the reference to original_array which is passed. \n",
    "In the lecture 3, we saw the concepts of pointers, garbage collection and passing by value and by reference. Here, this last concept is important since we need to differentiate passing by value which would mean passing the data itself, from passing by reference, which would pass a pointer to data. Here, the variable is referenced to objects which are in memory and when passing a list to a function, we are passing the reference to the list. Thus, not only the final list will be modified inside the function but also the original list outside the function. Thus, when the function check_array is applied to our original array and that the element, if it is 1 is passed to None, the original list referenced is modified by both original_array and new_array once we called check_array. For 1_3, the first character is a 1 which will be replaced with None both in the list referenced by both original_array and new_array. However, for 5_2, it will remain unchanged. Thus, the output will be [None, '5_2'] [None, '5_2']. "
   ],
   "metadata": {
    "collapsed": false
   },
   "id": "77530f474d4464c7"
  },
  {
   "cell_type": "markdown",
   "source": [
    "Question 3 : Considering the algorithm, which takes an array (assumed to be non-empty) named array and finds the subarray (contiguous elements of that array of any size) with the largest sum and outputs that sum. Is the algorithm defined above ”efficient” in the sense we defined in lecture 5 (slide 30)? That is, is its runtime polynomial in the size of the array? If not, explain why not. If it is, give the runtime in Big-O notation with the smallest d such that O(nd) is true.\n",
    "\n",
    "In the Lecture 3, we defined an Algorithm as efficient if its runtime is polynomial ie if the runtime grows no faster than a polynomial function of input size. \n",
    "In this code, the algorithm iterates over each element of the non-empty array and then for each element, iterates over the array and calculate the sum of the subarray starting from the first index of the outer loop tio the current index of the inner loop. If the sum given is greater than the max_sum it updates max_sum. Here, we have an outer loop and a inner loop (nested loop). The outer loop iterates the same number of times as the length of the input array. The inner loop iterates also the number of times as the length of the array, but the starting index changes with each iteration of the outer loop ie n times for the first iteration, n-1 for the second ... and one for the last iteration. The outer loop controls the number of times the inner loop will execute. Thus, if we say that the length of the array is n we will have n(n+1)/2 iterations. In O notation, it gives O(n2). The runtime complexity of the algorithm is O(n2) where n is the input array. Thus, we meet the criteria of efficiency defined in the class. However, it could be more efficient if with lower polynomial degree. \n"
   ],
   "metadata": {
    "collapsed": false
   },
   "id": "a6c3d5c4a5a5ac57"
  },
  {
   "cell_type": "code",
   "execution_count": null,
   "id": "initial_id",
   "metadata": {
    "collapsed": true
   },
   "outputs": [],
   "source": []
  },
  {
   "cell_type": "markdown",
   "source": [],
   "metadata": {
    "collapsed": false
   },
   "id": "8b8f24c4b17ec595"
  },
  {
   "cell_type": "markdown",
   "source": [],
   "metadata": {
    "collapsed": false
   },
   "id": "1e1a487c35d4bb3b"
  },
  {
   "cell_type": "markdown",
   "source": [],
   "metadata": {
    "collapsed": false
   },
   "id": "eb47194c85030014"
  }
 ],
 "metadata": {
  "kernelspec": {
   "display_name": "Python 3",
   "language": "python",
   "name": "python3"
  },
  "language_info": {
   "codemirror_mode": {
    "name": "ipython",
    "version": 2
   },
   "file_extension": ".py",
   "mimetype": "text/x-python",
   "name": "python",
   "nbconvert_exporter": "python",
   "pygments_lexer": "ipython2",
   "version": "2.7.6"
  }
 },
 "nbformat": 4,
 "nbformat_minor": 5
}
