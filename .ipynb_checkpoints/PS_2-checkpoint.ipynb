{
 "cells": [
  {
   "cell_type": "code",
   "execution_count": 2,
   "id": "2f7f52aa-92b7-4fd5-8fe9-06595d36f633",
   "metadata": {},
   "outputs": [
    {
     "ename": "IndentationError",
     "evalue": "expected an indented block after 'for' statement on line 2 (4110982641.py, line 3)",
     "output_type": "error",
     "traceback": [
      "\u001b[0;36m  Cell \u001b[0;32mIn[2], line 3\u001b[0;36m\u001b[0m\n\u001b[0;31m    if input [idx ][0] == \"1\":\u001b[0m\n\u001b[0m    ^\u001b[0m\n\u001b[0;31mIndentationError\u001b[0m\u001b[0;31m:\u001b[0m expected an indented block after 'for' statement on line 2\n"
     ]
    }
   ],
   "source": [
    "def check_array ( input ):\n",
    "    for idx in range (len( input )):\n",
    "       if input [idx ][0] == \"1\":\n",
    "           input [idx] = None\n",
    "        return input\n",
    "\n",
    "original_array = [\"1_3\", \"5_2\"]\n",
    "\n",
    " new_array = check_array ( original_array )\n",
    "\n",
    " print ( original_array )\n",
    " print ( new_array )"
   ]
  },
  {
   "cell_type": "code",
   "execution_count": null,
   "id": "e146596b-d2eb-4979-97db-ce5cbb8e4353",
   "metadata": {},
   "outputs": [],
   "source": [
    "max_sum = None\n",
    " for i in range (len ( array )):\n",
    "     sum_subarray = 0\n",
    "      for j in range (i, len( array )):\n",
    "         sum_subarray += array [j]\n",
    "         if max_sum is None or max_sum < sum_subarray :\n",
    "              max_sum = sum_subarray\n",
    " print ( max_sum )"
   ]
  }
 ],
 "metadata": {
  "kernelspec": {
   "display_name": "Python 3 (ipykernel)",
   "language": "python",
   "name": "python3"
  },
  "language_info": {
   "codemirror_mode": {
    "name": "ipython",
    "version": 3
   },
   "file_extension": ".py",
   "mimetype": "text/x-python",
   "name": "python",
   "nbconvert_exporter": "python",
   "pygments_lexer": "ipython3",
   "version": "3.11.5"
  }
 },
 "nbformat": 4,
 "nbformat_minor": 5
}
